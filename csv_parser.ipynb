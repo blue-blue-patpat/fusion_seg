{
 "cells": [
  {
   "cell_type": "code",
   "execution_count": null,
   "source": [
    "import linecache\n",
    "import pandas\n",
    "import numpy as np\n",
    "\n",
    "file_path = \"/home/nesc525/chen/3DSVC/ignoredata/optitrack_files/Take 2021-08-17 09.24.57 PM.csv\"\n",
    "head_line = linecache.getline(r\"{}\".format(file_path), 1)\n",
    "head_dict = dict(zip(head_line.split(\",\")[::2], head_line.split(\",\")[1::2]))\n",
    "\n",
    "joint_line = linecache.getline(r\"{}\".format(file_path), 4)\n",
    "stop_index = 0\n",
    "for i, joint in enumerate(joint_line.split(\",\")):\n",
    "    if \"Unlabeled\" in joint:\n",
    "        stop_index = i\n",
    "        break\n",
    "    \n",
    "df = pandas.read_csv(file_path, skiprows=6)\n",
    "opti_pcl = np.asarray(df).reshape(-1,len(df.columns)//3,3)\n"
   ],
   "outputs": [],
   "metadata": {}
  },
  {
   "cell_type": "code",
   "execution_count": null,
   "source": [
    "opti_pcl.shape"
   ],
   "outputs": [],
   "metadata": {}
  },
  {
   "cell_type": "code",
   "execution_count": null,
   "source": [
    "import csv\n",
    "\n",
    "file_path = \"/home/nesc525/chen/3DSVC/ignoredata/optitrack_files/Take 2021-08-17 09.24.57 PM.csv\"\n",
    "with open(file_path) as f:\n",
    "    reader = list(csv.reader(f))\n",
    "head_dict = dict(zip(reader[0][::2], reader[0][1::2]))\n",
    "\n",
    "stop_index = 0\n",
    "for i, name in enumerate(reader[3]):\n",
    "    if \"Unlabeled\" in name:\n",
    "        stop_index = i\n",
    "        break"
   ],
   "outputs": [],
   "metadata": {}
  },
  {
   "cell_type": "code",
   "execution_count": null,
   "source": [
    "stop_index"
   ],
   "outputs": [],
   "metadata": {}
  },
  {
   "cell_type": "code",
   "execution_count": 78,
   "source": [
    "import pandas\n",
    "import numpy as np\n",
    "import time\n",
    "import os\n",
    "\n",
    "csv_path = \"/home/nesc525/chen/3DSVC/ignoredata/optitrack_files/Take 2021-08-17 09.24.57 PM.csv\"\n",
    "df = pandas.read_csv(csv_path)\n",
    "file_path, _ = os.path.split(csv_path)\n",
    "timestamp = time.mktime(time.strptime(df.columns[3][5:], \"%Y-%m-%d %I.%M.%S %p\"))\n",
    "start_time = timestamp + int(df.columns[11][-6:-3])/1000\n",
    "bone_markers = df.iloc[2:,[i for i, item in enumerate(df.iloc[1]) if item == \"Bone Marker\"]]\n",
    "bones = df.iloc[2:,[i for i, item in enumerate(df.iloc[1]) if item == \"Bone\"]]\n",
    "num_of_persons = len(bone_markers.columns) // 111\n",
    "# names = []\n",
    "bones_list = []\n",
    "_array = np.asarray(bone_markers.iloc[4:, :], np.float64).reshape(-1,37,3)\n",
    "bone_markers_array = np.pad(_array, ((0,0),(0,0),(4,0)), 'constant', constant_values = (0,0))\n",
    "bones_array = np.asarray(bones.iloc[4:, :], np.float64).reshape(-1,21,7)\n",
    "for i in range(len(bone_markers_array)):\n",
    "    bones_list.append(np.vstack((bone_markers_array[i], bones_array[i])))\n",
    "    tm = start_time + float(df.iloc[i+6, 1])\n",
    "    filename = \"{}/id={}_tm={}\".format(file_path, i, tm)\n",
    "    np.save(filename, np.asarray(bones_list).reshape(-1,58,7))\n"
   ],
   "outputs": [],
   "metadata": {}
  },
  {
   "cell_type": "code",
   "execution_count": 70,
   "source": [
    "imestamp = time.mktime(time.strptime(df.columns[3][5:], \"%Y-%m-%d %I.%M.%S %p\"))\n",
    "start_time = timestamp + int(df.columns[11][-6:-3])/1000\n",
    "start_time"
   ],
   "outputs": [
    {
     "output_type": "execute_result",
     "data": {
      "text/plain": [
       "1629206697.756"
      ]
     },
     "metadata": {},
     "execution_count": 70
    }
   ],
   "metadata": {}
  },
  {
   "cell_type": "code",
   "execution_count": 66,
   "source": [
    "import time\n",
    "t = df.columns[3][5:]\n",
    "timeArray = time.strptime(t, \"%Y-%m-%d %I.%M.%S %p\")\n",
    "timestamp = time.mktime(timeArray)\n",
    "timestamp"
   ],
   "outputs": [
    {
     "output_type": "execute_result",
     "data": {
      "text/plain": [
       "1629206697.0"
      ]
     },
     "metadata": {},
     "execution_count": 66
    }
   ],
   "metadata": {}
  },
  {
   "cell_type": "code",
   "execution_count": 79,
   "source": [
    "a = np.load(\"/home/nesc525/chen/3DSVC/ignoredata/optitrack_files/id=0_tm=1629206697.756.npy\")\n",
    "a.shape"
   ],
   "outputs": [
    {
     "output_type": "execute_result",
     "data": {
      "text/plain": [
       "(1, 58, 7)"
      ]
     },
     "metadata": {},
     "execution_count": 79
    }
   ],
   "metadata": {}
  },
  {
   "cell_type": "code",
   "execution_count": 75,
   "source": [
    "df.iloc[0,1]"
   ],
   "outputs": [
    {
     "output_type": "execute_result",
     "data": {
      "text/plain": [
       "nan"
      ]
     },
     "metadata": {},
     "execution_count": 75
    }
   ],
   "metadata": {}
  },
  {
   "cell_type": "code",
   "execution_count": 131,
   "source": [
    "bones_list[0].shape"
   ],
   "outputs": [
    {
     "output_type": "execute_result",
     "data": {
      "text/plain": [
       "(11, 21, 7)"
      ]
     },
     "metadata": {},
     "execution_count": 131
    }
   ],
   "metadata": {}
  },
  {
   "cell_type": "code",
   "execution_count": 137,
   "source": [
    "a.shape"
   ],
   "outputs": [
    {
     "output_type": "execute_result",
     "data": {
      "text/plain": [
       "(1, 11, 37, 3)"
      ]
     },
     "metadata": {},
     "execution_count": 137
    }
   ],
   "metadata": {}
  },
  {
   "cell_type": "code",
   "execution_count": null,
   "source": [],
   "outputs": [],
   "metadata": {}
  }
 ],
 "metadata": {
  "orig_nbformat": 4,
  "language_info": {
   "name": "python",
   "version": "3.8.8",
   "mimetype": "text/x-python",
   "codemirror_mode": {
    "name": "ipython",
    "version": 3
   },
   "pygments_lexer": "ipython3",
   "nbconvert_exporter": "python",
   "file_extension": ".py"
  },
  "kernelspec": {
   "name": "python3",
   "display_name": "Python 3.8.8 64-bit ('3DSVC': conda)"
  },
  "interpreter": {
   "hash": "d4cb05d5866554eed3b9a6359059b21a23f910c0866f5e5976f74cb18daa3c71"
  }
 },
 "nbformat": 4,
 "nbformat_minor": 2
}