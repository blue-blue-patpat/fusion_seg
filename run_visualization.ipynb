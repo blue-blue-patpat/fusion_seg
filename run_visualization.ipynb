{
 "cells": [
  {
   "cell_type": "code",
   "execution_count": null,
   "source": [
    "\"\"\"\n",
    "This is an example of running single plot\n",
    "\"\"\"\n",
    "from visualization.utils import o3d_plot, o3d_pcl, o3d_mesh\n",
    "import numpy as np\n",
    "\n",
    "master_pcl = np.load(\"/media/nesc525/perple/kinect_calib/master/pcls/id=0_st=1.0_dt=1.275266.npy\").reshape(-1,3)/1000\n",
    "sub1_pcl = np.load(\"/media/nesc525/perple/kinect_calib/sub1/pcls/id=0_st=1.0_dt=1.266688.npy\").reshape(-1,3)/1000\n",
    "sub2_pcl = np.load(\"/media/nesc525/perple/kinect_calib/sub2/pcls/id=0_st=1.0_dt=1.240666.npy\").reshape(-1,3)/1000\n",
    "trans_arr_master = np.load(\"/media/nesc525/perple/kinect_calib/trans_master.npy\")\n",
    "trans_arr_sub1 = np.load(\"/media/nesc525/perple/kinect_calib/trans_sub1.npy\")\n",
    "trans_arr_sub2 = np.load(\"/media/nesc525/perple/kinect_calib/trans_sub2.npy\")\n",
    "trans_pcl_mas = (trans_arr_master[:3,-1].T + master_pcl) @ trans_arr_master[:3, :3]\n",
    "trans_pcl_sub1 = (trans_arr_sub1[:3,-1].T + sub1_pcl) @ trans_arr_sub1[:3, :3]\n",
    "trans_pcl_sub2 = (trans_arr_sub2[:3,-1].T + sub2_pcl) @ trans_arr_sub2[:3, :3]\n",
    "\n",
    "o3d_plot([o3d_pcl(master_pcl, color=[0,0,1]), o3d_pcl(sub1_pcl, color=[0,1,0]), o3d_pcl(sub2_pcl, color=[1,0,0])], 'OptiTrack Output')"
   ],
   "outputs": [],
   "metadata": {}
  },
  {
   "cell_type": "code",
   "execution_count": null,
   "source": [
    "%load_ext autoreload\n",
    "%autoreload 2\n",
    "\n",
    "from visualization.o3d_plot import KinectRealtimeStreamPlot\n",
    "\n",
    "plot = KinectRealtimeStreamPlot('./__test__/default', ['sub1', 'sub2'])\n",
    "plot.show()"
   ],
   "outputs": [],
   "metadata": {}
  },
  {
   "cell_type": "code",
   "execution_count": null,
   "source": [
    "\"\"\"\n",
    "Visualize optitrack skeleton and arbe pcl\n",
    "\"\"\"\n",
    "from visualization.o3d_plot import OptitrackArbeStreamPlot\n",
    "from multiprocessing import Pool\n",
    "\n",
    "def process(path, angle_of_view=[0,-1,0,1]):\n",
    "    plot = OptitrackArbeStreamPlot(path, angle_of_view)\n",
    "    plot.show()\n",
    "\n",
    "# root_path = \"/media/nesc525/backup/2021-09-09_17-03-33\"\n",
    "root_path = \"/media/nesc525/data/2021-09-18_21-38-15\"\n",
    "pool = Pool()\n",
    "pool.apply_async(process, (root_path, [0,-1,0,1]))\n",
    "# pool.apply_async(process, (root_path, [1,1,0,2]))\n",
    "# pool.apply_async(process, (root_path, [-1,1,0,2]))\n",
    "pool.close()\n",
    "pool.join()"
   ],
   "outputs": [],
   "metadata": {}
  },
  {
   "cell_type": "code",
   "execution_count": null,
   "source": [
    "\"\"\"\n",
    "Visualize kinect skeleton and arbe pcl\n",
    "\"\"\"\n",
    "from multiprocessing import Pool\n",
    "from visualization.o3d_plot import KinectArbeStreamPlot\n",
    "root_path = \"/media/nesc525/perple/2021-09-10_11-27-22\"\n",
    "# root_path = \"/home/nesc525/chen/3DSVC/__test__/default\"\n",
    "\n",
    "def process(path, device, angle_of_view, fps=30):\n",
    "    plot = KinectArbeStreamPlot(path, device, angle_of_view)\n",
    "    plot.show(fps=fps)\n",
    "\n",
    "pool = Pool()\n",
    "pool.apply_async(process, (root_path, ['master'], [0,-1,0,1]))\n",
    "# pool.apply_async(process, (root_path, ['sub1'], [1,1,0,2]))\n",
    "# pool.apply_async(process, (root_path, ['sub2'], [-1,1,0,2]))\n",
    "pool.close()\n",
    "pool.join()"
   ],
   "outputs": [],
   "metadata": {}
  },
  {
   "cell_type": "code",
   "execution_count": null,
   "source": [
    "from visualization.o3d_plot import KinectOfflineStreamPlotCpp\n",
    "\n",
    "root_path = \"/media/nesc525/perple/2021-09-08_10-52-30\"\n",
    "# root_path = \"/home/nesc525/chen/3DSVC/__test__/default\"\n",
    "plot = KinectOfflineStreamPlotCpp(root_path, start_frame=50, write_ply=False)\n",
    "plot.show()"
   ],
   "outputs": [],
   "metadata": {}
  },
  {
   "cell_type": "code",
   "execution_count": null,
   "source": [
    "import numpy as np\n",
    "import matplotlib.pyplot as plt\n",
    "from scipy.interpolate import make_interp_spline\n",
    "\n",
    "def plot_rmse(arr, color, label):\n",
    "    hist, bin_edges = np.histogram(arr, bins=10, range=[0,0.2])\n",
    "    cdf = np.cumsum(hist)/arr.size\n",
    "    model=make_interp_spline(bin_edges[:-1], cdf, bc_type=\"natural\")\n",
    "    xs=np.linspace(0, 0.2, 100)\n",
    "    ys=model(xs)\n",
    "    plt.plot(xs, ys, color=color, label=label)\n",
    "\n",
    "p4t_rmse_rs_01 = np.load(\"ignoredata/p4t/r_s=0.1/rmse.npy\")[:,2]\n",
    "p4t_rmse_rs_05 = np.load(\"ignoredata/p4t/r_s=0.5/rmse.npy\")[:,2]\n",
    "p4t_rmse_rs_07 = np.load(\"ignoredata/p4t/r_s=0.7/rmse.npy\")[:,2]\n",
    "p4t_rmse_rs_09 = np.load(\"ignoredata/p4t/r_s=0.9/rmse.npy\")[:,2]\n",
    "p4t_rmse_rs_13 = np.load(\"ignoredata/p4t/r_s=1.3/rmse.npy\")[:,2]\n",
    "p4t_rmse_cl_01 = np.load(\"ignoredata/p4t/c_l=1/rmse.npy\")[:,2]\n",
    "p4t_rmse_rt_00 = np.load(\"ignoredata/p4t/r_t=0/rmse.npy\")[:,2]\n",
    "p4t_rmse_rt_02 = np.load(\"ignoredata/p4t/r_t=2/rmse.npy\")[:,2]\n",
    "paconv_rmse_wF3 = np.load(\"ignoredata/paconv/test_result/test_RMSE-wF3.npy\")\n",
    "paconv_rmse_wF6 = np.load(\"ignoredata/paconv/test_result/test_RMSE-wF6.npy\")\n",
    "paconv_rmse_woF = np.load(\"ignoredata/paconv/test_result/test_RMSE-woF.npy\")\n",
    "plstm_rmse = np.load(\"/home/nesc525/chen/3DSVC/ignoredata/plstm/loss_plstm.npy\")\n",
    "\n",
    "plot_rmse(p4t_rmse_rs_01, 'red', 'r_s=0.1')\n",
    "plot_rmse(p4t_rmse_rs_05, 'orange', 'r_s=0.5')\n",
    "plot_rmse(p4t_rmse_rs_07, 'yellow', 'r_s=0.7')\n",
    "plot_rmse(p4t_rmse_rs_09, 'green', 'r_s=0.9')\n",
    "plot_rmse(p4t_rmse_rs_13, 'indigo', 'r_s=1.3')\n",
    "plot_rmse(p4t_rmse_cl_01, 'blue', 'c_l=1')\n",
    "plot_rmse(p4t_rmse_rt_00, 'violet', 'r_t=0')\n",
    "plot_rmse(p4t_rmse_rt_02, 'pink', 'r_t=2')\n",
    "plot_rmse(paconv_rmse_wF3, 'cyan', 'f=3')\n",
    "plot_rmse(paconv_rmse_wF6, 'black', 'f=6')\n",
    "plot_rmse(paconv_rmse_woF, 'grey', 'f=0')\n",
    "plot_rmse(plstm_rmse, 'gold', 'plstm')\n",
    "\n",
    "plt.xlabel(\"error (m)\")\n",
    "plt.ylabel(\"percentage\")\n",
    "plt.legend(loc=\"lower right\")\n",
    "plt.show()"
   ],
   "outputs": [],
   "metadata": {}
  }
 ],
 "metadata": {
  "orig_nbformat": 4,
  "language_info": {
   "name": "python",
   "version": "3.8.8",
   "mimetype": "text/x-python",
   "codemirror_mode": {
    "name": "ipython",
    "version": 3
   },
   "pygments_lexer": "ipython3",
   "nbconvert_exporter": "python",
   "file_extension": ".py"
  },
  "kernelspec": {
   "name": "python3",
   "display_name": "Python 3.8.8 64-bit ('3DSVC': conda)"
  },
  "interpreter": {
   "hash": "d4cb05d5866554eed3b9a6359059b21a23f910c0866f5e5976f74cb18daa3c71"
  }
 },
 "nbformat": 4,
 "nbformat_minor": 2
}