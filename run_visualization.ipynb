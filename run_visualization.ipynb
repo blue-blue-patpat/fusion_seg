{
 "cells": [
  {
   "cell_type": "code",
   "execution_count": null,
   "source": [
    "\"\"\"\n",
    "This is an example of running stream plot with multi input\n",
    "\"\"\"\n",
    "from multiprocessing import Pool\n",
    "from visualization.o3d_plot import KinectArbeStreamPlot\n",
    "root_path = \"/media/nesc525/perple/arbe_test\"\n",
    "\n",
    "def process(path, device, angle_of_view, fps=30):\n",
    "    plot = KinectArbeStreamPlot(path, device, angle_of_view)\n",
    "    plot.show(fps=fps)\n",
    "\n",
    "pool = Pool()\n",
    "pool.apply_async(process, (root_path, ['master'], [0,-1,0,1]))\n",
    "pool.apply_async(process, (root_path, ['master'], [1,1,0,2]))\n",
    "pool.apply_async(process, (root_path, ['master'], [-1,1,0,2]))\n",
    "pool.close()\n",
    "pool.join()"
   ],
   "outputs": [],
   "metadata": {}
  },
  {
   "cell_type": "code",
   "execution_count": null,
   "source": [
    "\"\"\"\n",
    "This is an example of running single plot\n",
    "\"\"\"\n",
    "from visualization.utils import o3d_plot, o3d_pcl, o3d_mesh\n",
    "import numpy as np\n",
    "\n",
    "master_pcl = np.load(\"/media/nesc525/perple/kinect_calib/master/pcls/id=0_st=1.0_dt=1.275266.npy\").reshape(-1,3)/1000\n",
    "sub1_pcl = np.load(\"/media/nesc525/perple/kinect_calib/sub1/pcls/id=0_st=1.0_dt=1.266688.npy\").reshape(-1,3)/1000\n",
    "sub2_pcl = np.load(\"/media/nesc525/perple/kinect_calib/sub2/pcls/id=0_st=1.0_dt=1.240666.npy\").reshape(-1,3)/1000\n",
    "trans_arr_master = np.load(\"/media/nesc525/perple/kinect_calib/trans_master.npy\")\n",
    "trans_arr_sub1 = np.load(\"/media/nesc525/perple/kinect_calib/trans_sub1.npy\")\n",
    "trans_arr_sub2 = np.load(\"/media/nesc525/perple/kinect_calib/trans_sub2.npy\")\n",
    "trans_pcl_mas = (trans_arr_master[:3,-1].T + master_pcl) @ trans_arr_master[:3, :3]\n",
    "trans_pcl_sub1 = (trans_arr_sub1[:3,-1].T + sub1_pcl) @ trans_arr_sub1[:3, :3]\n",
    "trans_pcl_sub2 = (trans_arr_sub2[:3,-1].T + sub2_pcl) @ trans_arr_sub2[:3, :3]\n",
    "\n",
    "o3d_plot([o3d_pcl(master_pcl, color=[0,0,1]), o3d_pcl(sub1_pcl, color=[0,1,0]), o3d_pcl(sub2_pcl, color=[1,0,0])], 'OptiTrack Output')"
   ],
   "outputs": [],
   "metadata": {}
  },
  {
   "cell_type": "code",
   "execution_count": null,
   "source": [
    "%load_ext autoreload\n",
    "%autoreload 2\n",
    "\n",
    "from visualization.o3d_plot import KinectRealtimeStreamPlot\n",
    "\n",
    "plot = KinectRealtimeStreamPlot('./__test__/default', ['sub1', 'sub2'])\n",
    "plot.show()"
   ],
   "outputs": [],
   "metadata": {}
  },
  {
   "cell_type": "code",
   "execution_count": null,
   "source": [
    "from visualization.o3d_plot import OptitrackArbeStreamPlot\n",
    "from multiprocessing import Pool\n",
    "\n",
    "def process(path, angle_of_view=[0,-1,0,1]):\n",
    "    plot = OptitrackArbeStreamPlot(path, angle_of_view)\n",
    "    plot.show()\n",
    "\n",
    "root_path = \"/media/nesc525/perple/2021-08-30_10-32-25\"\n",
    "pool = Pool()\n",
    "pool.apply_async(process, (root_path, [0,-1,0,1]))\n",
    "pool.apply_async(process, (root_path, [1,1,0,2]))\n",
    "pool.apply_async(process, (root_path, [-1,1,0,2]))\n",
    "pool.close()\n",
    "pool.join()"
   ],
   "outputs": [],
   "metadata": {}
  }
 ],
 "metadata": {
  "orig_nbformat": 4,
  "language_info": {
   "name": "python",
   "version": "3.8.8",
   "mimetype": "text/x-python",
   "codemirror_mode": {
    "name": "ipython",
    "version": 3
   },
   "pygments_lexer": "ipython3",
   "nbconvert_exporter": "python",
   "file_extension": ".py"
  },
  "kernelspec": {
   "name": "python3",
   "display_name": "Python 3.8.8 64-bit ('3DSVC': conda)"
  },
  "interpreter": {
   "hash": "d4cb05d5866554eed3b9a6359059b21a23f910c0866f5e5976f74cb18daa3c71"
  }
 },
 "nbformat": 4,
 "nbformat_minor": 2
}