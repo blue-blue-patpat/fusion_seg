{
 "cells": [
  {
   "cell_type": "code",
   "execution_count": null,
   "source": [
    "\"\"\"\n",
    "This is an example of running stream plot with multi input\n",
    "\"\"\"\n",
    "from multiprocessing import Pool\n",
    "from visualization.o3d_plot import KinectArbeStreamPlot\n",
    "root_path = \"/media/nesc525/perple/2021-08-09_19-47-45\"\n",
    "\n",
    "\n",
    "def process(path, device, fps=30):\n",
    "    plot = KinectArbeStreamPlot(path, device)\n",
    "    plot.show(fps=fps)\n",
    "\n",
    "pool = Pool()\n",
    "pool.apply_async(process, (root_path, ['master'], 60))\n",
    "pool.apply_async(process, (root_path, ['sub1'], 15))\n",
    "pool.apply_async(process, (root_path, ['sub2']))\n",
    "pool.close()\n",
    "pool.join()"
   ],
   "outputs": [],
   "metadata": {}
  },
  {
   "cell_type": "code",
   "execution_count": null,
   "source": [
    "\"\"\"\n",
    "This is an example of running single plot\n",
    "\"\"\"\n",
    "from visualization.utils import o3d_plot, o3d_pcl, o3d_mesh\n",
    "import numpy as np\n",
    "\n",
    "pcl = np.load(\"ignoredata/optitrack_files/id=5_tm=1629206697.797667.npy\")[0][:,-3:]\n",
    "\n",
    "o3d_plot([o3d_pcl(pcl, [0,0,1])], 'OptiTrack Output')"
   ],
   "outputs": [],
   "metadata": {}
  }
 ],
 "metadata": {
  "orig_nbformat": 4,
  "language_info": {
   "name": "python",
   "version": "3.8.8",
   "mimetype": "text/x-python",
   "codemirror_mode": {
    "name": "ipython",
    "version": 3
   },
   "pygments_lexer": "ipython3",
   "nbconvert_exporter": "python",
   "file_extension": ".py"
  },
  "kernelspec": {
   "name": "python3",
   "display_name": "Python 3.8.8 64-bit ('3DSVC': conda)"
  },
  "interpreter": {
   "hash": "d4cb05d5866554eed3b9a6359059b21a23f910c0866f5e5976f74cb18daa3c71"
  }
 },
 "nbformat": 4,
 "nbformat_minor": 2
}