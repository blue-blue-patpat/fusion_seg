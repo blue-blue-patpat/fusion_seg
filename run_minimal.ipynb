{
 "cells": [
  {
   "cell_type": "markdown",
   "source": [
    "# Minimal with visualization"
   ],
   "metadata": {}
  },
  {
   "cell_type": "markdown",
   "source": [
    "## imports"
   ],
   "metadata": {}
  },
  {
   "cell_type": "code",
   "execution_count": null,
   "source": [
    "import os\n",
    "from minimal.solver import Solver\n",
    "from minimal import armatures\n",
    "from minimal.models import KinematicModel, KinematicPCAWrapper\n",
    "import numpy as np\n",
    "import minimal.config as config\n",
    "from dataloader.result_loader import KinectResultLoader\n",
    "from minimal.bridge import JointsBridge\n",
    "import torch\n",
    "from pytorch3d.structures import Pointclouds\n",
    "\n",
    "import matplotlib.pyplot as plt\n",
    "import matplotlib as mpl\n",
    "%matplotlib inline\n",
    "mpl.rcParams['savefig.dpi'] = 80\n",
    "mpl.rcParams['figure.dpi'] = 80\n",
    "\n",
    "from visualization.utils import o3d_plot, o3d_coord, o3d_mesh, o3d_pcl, o3d_skeleton\n",
    "import open3d as o3d\n",
    "\n",
    "from dataloader.utils import ymdhms_time\n",
    "\n",
    "%load_ext autoreload\n",
    "%autoreload 2\n",
    "\n",
    "np.random.seed(20160923)"
   ],
   "outputs": [],
   "metadata": {}
  },
  {
   "cell_type": "markdown",
   "source": [
    "## Single Frame Minimal"
   ],
   "metadata": {}
  },
  {
   "cell_type": "code",
   "execution_count": null,
   "source": [
    "n_pose = 23 * 3 # degrees of freedom, (n_joints - 1) * 3\n",
    "# smpl 1.0.0: 10\n",
    "# smpl 1.1.0: 300\n",
    "n_shape = 10\n",
    "\n",
    "input_path = '/media/nesc525/perple/2021-08-18_10-49-44-T'"
   ],
   "outputs": [],
   "metadata": {}
  },
  {
   "cell_type": "code",
   "execution_count": null,
   "source": [
    "k_loader = KinectResultLoader(input_path)\n",
    "files = k_loader.select_item(298, \"id\")\n",
    "kinect_skeleton = np.load(files[\"kinect/master/skeleton\"][\"filepath\"])\n",
    "kinect_pcls = np.vstack(np.load(files['kinect/master/pcls'][\"filepath\"]))\n",
    "\n",
    "bridge = JointsBridge()\n",
    "kpts_gt, pcl_gt, origin_scale = bridge.smpl_from_kinect(kinect_skeleton[0], kinect_pcls)\n",
    "\n",
    "mesh = KinematicModel(config.SMPL_MODEL_1_0_MALE_PATH, armatures.SMPLArmature, scale=1)\n",
    "\n",
    "wrapper = KinematicPCAWrapper(mesh, n_pose=n_pose)\n",
    "solver = Solver(wrapper, max_iter=int(10e7))\n",
    "\n",
    "mesh_init, kpts_init = wrapper.run(np.zeros(wrapper.n_params))"
   ],
   "outputs": [],
   "metadata": {}
  },
  {
   "cell_type": "code",
   "execution_count": null,
   "source": [
    "o3d_plot([o3d_pcl(kpts_gt, [0,0,1]), o3d_pcl(pcl_gt, [1,0,0]), o3d_pcl(kpts_init, [0,1,0])], 'Minimal Input')"
   ],
   "outputs": [],
   "metadata": {}
  },
  {
   "cell_type": "code",
   "execution_count": null,
   "source": [
    "params_est = solver.solve_full(kpts_gt, pcl_gt, origin_scale, verbose=1, mse_threshold=1e-5)"
   ],
   "outputs": [],
   "metadata": {}
  },
  {
   "cell_type": "code",
   "execution_count": null,
   "source": [
    "shape_est, pose_pca_est, pose_glb_est = wrapper.decode(params_est)\n",
    "\n",
    "print('----------------------------------------------------------------------')\n",
    "print('estimated parameters')\n",
    "print('pose pca coefficients:', pose_pca_est)\n",
    "print('pose global rotation:', pose_glb_est)\n",
    "print('shape: pca coefficients:', shape_est)\n",
    "\n",
    "mesh.set_params(pose_pca=pose_pca_est)\n",
    "mesh.save_obj(os.path.join(config.SAVE_PATH, './esttm={}.obj'.format(ymdhms_time())))"
   ],
   "outputs": [],
   "metadata": {}
  },
  {
   "cell_type": "markdown",
   "source": [
    "## Stream Minimal"
   ],
   "metadata": {}
  },
  {
   "cell_type": "code",
   "execution_count": null,
   "source": [],
   "outputs": [],
   "metadata": {}
  }
 ],
 "metadata": {
  "orig_nbformat": 4,
  "language_info": {
   "name": "python",
   "version": "3.8.8",
   "mimetype": "text/x-python",
   "codemirror_mode": {
    "name": "ipython",
    "version": 3
   },
   "pygments_lexer": "ipython3",
   "nbconvert_exporter": "python",
   "file_extension": ".py"
  },
  "kernelspec": {
   "name": "python3",
   "display_name": "Python 3.8.8 64-bit ('3DSVC': conda)"
  },
  "interpreter": {
   "hash": "d4cb05d5866554eed3b9a6359059b21a23f910c0866f5e5976f74cb18daa3c71"
  }
 },
 "nbformat": 4,
 "nbformat_minor": 2
}