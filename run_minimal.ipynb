{
 "cells": [
  {
   "cell_type": "markdown",
   "source": [
    "# Minimal with visualization"
   ],
   "metadata": {}
  },
  {
   "cell_type": "markdown",
   "source": [
    "## imports"
   ],
   "metadata": {}
  },
  {
   "cell_type": "code",
   "execution_count": null,
   "source": [
    "import os\n",
    "from minimal.solver import Solver\n",
    "from minimal import armatures\n",
    "from minimal.models import KinematicModel, KinematicPCAWrapper\n",
    "import numpy as np\n",
    "import minimal.config as config\n",
    "from dataloader.result_loader import KinectResultLoader\n",
    "from minimal.bridge import JointsBridge\n",
    "import torch\n",
    "from pytorch3d.structures import Pointclouds\n",
    "\n",
    "import matplotlib.pyplot as plt\n",
    "import matplotlib as mpl\n",
    "%matplotlib inline\n",
    "mpl.rcParams['savefig.dpi'] = 80\n",
    "mpl.rcParams['figure.dpi'] = 80\n",
    "\n",
    "from visualization.utils import o3d_plot, o3d_coord, o3d_mesh, o3d_pcl, o3d_skeleton\n",
    "import open3d as o3d\n",
    "\n",
    "from dataloader.utils import ymdhms_time\n",
    "\n",
    "%load_ext autoreload\n",
    "%autoreload 2\n",
    "\n",
    "np.random.seed(20160923)"
   ],
   "outputs": [],
   "metadata": {}
  },
  {
   "cell_type": "markdown",
   "source": [
    "## Single Frame Minimal"
   ],
   "metadata": {}
  },
  {
   "cell_type": "code",
   "execution_count": null,
   "source": [
    "n_pose = 23 * 3 # degrees of freedom, (n_joints - 1) * 3\n",
    "# smpl 1.0.0: 10\n",
    "# smpl 1.1.0: 300\n",
    "n_shape = 10\n",
    "\n",
    "input_path = '/media/nesc525/perple/2021-08-18_10-49-44-T'\n",
    "input_id = 298"
   ],
   "outputs": [],
   "metadata": {}
  },
  {
   "cell_type": "code",
   "execution_count": null,
   "source": [
    "k_loader = KinectResultLoader(input_path)\n",
    "files = k_loader.select_item(input_id, \"id\")\n",
    "kinect_skeleton = np.load(files[\"kinect/master/skeleton\"][\"filepath\"])[0][:,:3]/1000\n",
    "kinect_pcls = np.vstack(np.load(files['kinect/master/pcls'][\"filepath\"])).reshape(-1,3)/1000\n",
    "kinect_pcls = kinect_pcls[kinect_pcls.all(axis=1)]"
   ],
   "outputs": [],
   "metadata": {}
  },
  {
   "cell_type": "code",
   "execution_count": null,
   "source": [
    "bridge = JointsBridge()\n",
    "bridge.init_input(kinect_skeleton, kinect_pcls)\n",
    "kpts_gt, pcl_gt = bridge.smpl_from_kinect()\n",
    "R, t, scale = bridge.revert_transform()"
   ],
   "outputs": [],
   "metadata": {}
  },
  {
   "cell_type": "code",
   "execution_count": null,
   "source": [
    "mesh = KinematicModel(config.SMPL_MODEL_1_0_MALE_PATH, armatures.SMPLArmature)\n",
    "\n",
    "wrapper = KinematicPCAWrapper(mesh, n_pose=n_pose)\n",
    "solver = Solver(wrapper, max_iter=int(10e7))\n",
    "\n",
    "mesh_init, kpts_init = wrapper.run(np.zeros(wrapper.n_params))"
   ],
   "outputs": [],
   "metadata": {}
  },
  {
   "cell_type": "code",
   "execution_count": null,
   "source": [
    "o3d_plot([o3d_pcl(kpts_gt, [0,0,1]), o3d_pcl(pcl_gt, [1,0,0]), o3d_pcl(kpts_init, [0,1,0])], 'Minimal Input')"
   ],
   "outputs": [],
   "metadata": {}
  },
  {
   "cell_type": "code",
   "execution_count": null,
   "source": [
    "params_est = solver.solve_full(kpts_gt, pcl_gt, scale, verbose=1, mse_threshold=1e-5)"
   ],
   "outputs": [],
   "metadata": {}
  },
  {
   "cell_type": "code",
   "execution_count": null,
   "source": [
    "shape_est, pose_pca_est, pose_glb_est = wrapper.decode(params_est)\n",
    "\n",
    "print('----------------------------------------------------------------------')\n",
    "print('estimated parameters')\n",
    "print('pose pca coefficients:', pose_pca_est)\n",
    "print('pose global rotation:', pose_glb_est)\n",
    "print('shape: pca coefficients:', shape_est)\n",
    "\n",
    "mesh.set_params(pose_pca=pose_pca_est)\n",
    "mesh.save_obj(os.path.join(config.SAVE_PATH, './esttm={}.obj'.format(ymdhms_time())))"
   ],
   "outputs": [],
   "metadata": {}
  },
  {
   "cell_type": "markdown",
   "source": [
    "## Stream Minimal"
   ],
   "metadata": {}
  },
  {
   "cell_type": "code",
   "execution_count": null,
   "source": [
    "from minimal.input_loader import stream_o_jnts_k_pcls\n",
    "\n",
    "n_pose = 23 * 3 # degrees of freedom, (n_joints - 1) * 3\n",
    "# smpl 1.0.0: 10\n",
    "# smpl 1.1.0: 300\n",
    "n_shape = 10\n",
    "\n",
    "root_path = \"\""
   ],
   "outputs": [],
   "metadata": {}
  },
  {
   "cell_type": "code",
   "execution_count": null,
   "source": [
    "\n",
    "stream = stream_o_jnts_k_pcls(root_path)\n",
    "\n",
    "mesh = KinematicModel(config.SMPL_MODEL_1_0_MALE_PATH, armatures.SMPLArmature)\n",
    "\n",
    "wrapper = KinematicPCAWrapper(mesh, n_pose=n_pose)\n",
    "solver = Solver(wrapper, max_iter=int(40))\n",
    "\n",
    "solver.solve_stream(stream, root_path, vbs=[True, True])"
   ],
   "outputs": [],
   "metadata": {}
  },
  {
   "cell_type": "markdown",
   "source": [
    "## DTW"
   ],
   "metadata": {}
  },
  {
   "cell_type": "code",
   "execution_count": null,
   "source": [
    "from sync.signals import kinect_signal\n",
    "from dataloader.result_loader import KinectResultLoader\n",
    "from calib.utils import kinect_transform_mat\n",
    "from scipy import signal\n",
    "\n",
    "%load_ext autoreload\n",
    "%autoreload 2\n",
    "\n",
    "root_path = \"/media/nesc525/perple/2021-08-28_17-29-16\"\n",
    "# root_path = \"/media/nesc525/perple/2021-08-30_10-32-25\"\n",
    "\n",
    "trans = kinect_transform_mat(root_path)"
   ],
   "outputs": [],
   "metadata": {}
  },
  {
   "cell_type": "code",
   "execution_count": null,
   "source": [
    "def smooth(x,window_len=11,window='hanning'):\n",
    "    if x.ndim != 1:\n",
    "        raise ValueError(\"smooth only accepts 1 dimension arrays.\")\n",
    "\n",
    "    if x.size < window_len:\n",
    "        raise ValueError(\"Input vector needs to be bigger than window size.\")\n",
    "\n",
    "\n",
    "    if window_len<3:\n",
    "        return x\n",
    "\n",
    "\n",
    "    if not window in ['flat', 'hanning', 'hamming', 'bartlett', 'blackman']:\n",
    "        raise ValueError(\"Window is on of 'flat', 'hanning', 'hamming', 'bartlett', 'blackman'\")\n",
    "\n",
    "\n",
    "    s=np.r_[x[window_len-1:0:-1],x,x[-2:-window_len-1:-1]]\n",
    "    #print(len(s))\n",
    "    if window == 'flat': #moving average\n",
    "        w=np.ones(window_len,'d')\n",
    "    else:\n",
    "        w=eval('np.'+window+'(window_len)')\n",
    "\n",
    "    y=np.convolve(w/w.sum(),s,mode='valid')\n",
    "    return y"
   ],
   "outputs": [],
   "metadata": {}
  },
  {
   "cell_type": "code",
   "execution_count": null,
   "source": [
    "def remove_unreal(x):\n",
    "    _x = np.array(x)\n",
    "    for i in range(1, _x.shape[0] - 1):\n",
    "        if abs(_x[i+1] - _x[i]) > 1:\n",
    "            _x[i+1] = _x[i]\n",
    "    return smooth(_x)[:len(x)]"
   ],
   "outputs": [],
   "metadata": {}
  },
  {
   "cell_type": "code",
   "execution_count": null,
   "source": [
    "mas_x, mas_t =kinect_signal(KinectResultLoader(root_path), start=100, end=900, R=trans[\"kinect_master\"][\"R\"], t=trans[\"kinect_master\"][\"t\"])\n",
    "sub1_x, sub1_t =kinect_signal(KinectResultLoader(root_path, device=\"sub1\"), start=500, end=1400, R=trans[\"kinect_sub1\"][\"R\"], t=trans[\"kinect_sub1\"][\"t\"])\n",
    "sub2_x, sub2_t =kinect_signal(KinectResultLoader(root_path, device=\"sub2\"), start=300, end=900, R=trans[\"kinect_sub2\"][\"R\"], t=trans[\"kinect_sub2\"][\"t\"])"
   ],
   "outputs": [],
   "metadata": {}
  },
  {
   "cell_type": "code",
   "execution_count": null,
   "source": [
    "plt.plot(mas_t, mas_x, label=\"mas\")\n",
    "plt.plot(sub1_t, sub1_x, label=\"sub1\")\n",
    "plt.plot(sub2_t, sub2_x, label=\"sub2\")\n",
    "plt.legend()"
   ],
   "outputs": [],
   "metadata": {}
  },
  {
   "cell_type": "code",
   "execution_count": null,
   "source": [
    "b, a = signal.butter(8, 0.05, 'lowpass')\n",
    "plt.plot(mas_t, signal.filtfilt(b, a, remove_unreal(mas_x)), label=\"mas\")\n",
    "plt.plot(sub1_t, signal.filtfilt(b, a, remove_unreal(sub1_x)), label=\"sub1\")\n",
    "plt.plot(sub2_t, signal.filtfilt(b, a, remove_unreal(sub2_x)), label=\"sub2\")\n",
    "plt.legend()"
   ],
   "outputs": [],
   "metadata": {}
  },
  {
   "cell_type": "code",
   "execution_count": null,
   "source": [
    "plt.plot(mas_t, remove_unreal(mas_x), label=\"mas\")\n",
    "plt.plot(sub1_t, remove_unreal(sub1_x), label=\"sub1\")\n",
    "plt.plot(sub2_t, remove_unreal(sub2_x), label=\"sub2\")\n",
    "plt.legend()"
   ],
   "outputs": [],
   "metadata": {}
  },
  {
   "cell_type": "code",
   "execution_count": null,
   "source": [
    "b, a = signal.butter(8, 0.02, 'lowpass')\n",
    "plt.plot(signal.filtfilt(b, a, remove_unreal(mas_x)), label=\"mas\")\n",
    "plt.plot(signal.filtfilt(b, a, remove_unreal(sub1_x)), label=\"sub1\")\n",
    "plt.legend()"
   ],
   "outputs": [],
   "metadata": {}
  },
  {
   "cell_type": "code",
   "execution_count": null,
   "source": [
    "from scipy.spatial.distance import euclidean\n",
    "\n",
    "from dtw import accelerated_dtw\n",
    "\n",
    "x = signal.filtfilt(b, a, remove_unreal(mas_x))\n",
    "y = signal.filtfilt(b, a, remove_unreal(sub1_x))\n",
    "d, cost_matrix, acc_cost_matrix, path = accelerated_dtw(x,y, dist='euclidean', warp=50)\n",
    "d, path"
   ],
   "outputs": [],
   "metadata": {}
  },
  {
   "cell_type": "code",
   "execution_count": null,
   "source": [
    "mas_idx, sub1_idx = path"
   ],
   "outputs": [],
   "metadata": {}
  },
  {
   "cell_type": "code",
   "execution_count": null,
   "source": [
    "plt.imshow(acc_cost_matrix.T, origin='lower', cmap='gray', interpolation='nearest')\n",
    "plt.plot(path[0], path[1], 'w')\n",
    "plt.xlabel('Subject1')\n",
    "plt.ylabel('Subject2')\n",
    "plt.title(f'DTW Minimum Path with minimum distance: {np.round(d,2)}')\n",
    "plt.show()"
   ],
   "outputs": [],
   "metadata": {}
  },
  {
   "cell_type": "code",
   "execution_count": null,
   "source": [
    "plt.plot(signal.filtfilt(b, a, remove_unreal(mas_x))[mas_idx], label=\"mas\")\n",
    "plt.plot(signal.filtfilt(b, a, remove_unreal(sub1_x))[sub1_idx], label=\"sub1\")\n",
    "plt.legend()"
   ],
   "outputs": [],
   "metadata": {}
  },
  {
   "cell_type": "code",
   "execution_count": null,
   "source": [
    "from scipy import stats\n",
    "\n",
    "stats.mode(mas_idx - sub1_idx)[0][0]\n",
    "# np.median(mas_idx - sub1_idx)"
   ],
   "outputs": [],
   "metadata": {}
  },
  {
   "cell_type": "markdown",
   "source": [
    "## TLCC"
   ],
   "metadata": {}
  },
  {
   "cell_type": "code",
   "execution_count": null,
   "source": [
    "import pandas as pd\n",
    "\n",
    "def crosscorr(datax, datay, lag=0, wrap=False):\n",
    "    \"\"\" Lag-N cross correlation. \n",
    "    Shifted data filled with NaNs \n",
    "    \n",
    "    Parameters\n",
    "    ----------\n",
    "    lag : int, default 0\n",
    "    datax, datay : pandas.Series objects of equal length\n",
    "    Returns\n",
    "    ----------\n",
    "    crosscorr : float\n",
    "    \"\"\"\n",
    "    if wrap:\n",
    "        shiftedy = datay.shift(lag)\n",
    "        shiftedy.iloc[:lag] = datay.iloc[-lag:].values\n",
    "        return datax.corr(shiftedy)\n",
    "    else: \n",
    "        return datax.corr(datay.shift(lag))\n",
    "\n",
    "d1 = pd.Series(x)\n",
    "d2 = pd.Series(y)\n",
    "seconds = 5\n",
    "fps = 30\n",
    "rs = [crosscorr(d1,d2, lag) for lag in range(-int(seconds*fps),int(seconds*fps+1))]\n",
    "offset = np.floor(len(rs)/2)-np.argmax(rs)\n",
    "f,ax=plt.subplots(figsize=(14,3))\n",
    "ax.plot(rs)\n",
    "ax.axvline(np.ceil(len(rs)/2),color='k',linestyle='--',label='Center')\n",
    "ax.axvline(np.argmax(rs),color='r',linestyle='--',label='Peak synchrony')\n",
    "ax.set(title=f'Offset = {offset} frames\\nS1 leads <> S2 leads', xlabel='Offset',ylabel='Pearson r')\n",
    "ax.set_xticks([0, 50, 100, 151, 201, 251, 301])\n",
    "ax.set_xticklabels([-150, -100, -50, 0, 50, 100, 150])\n",
    "plt.legend()"
   ],
   "outputs": [],
   "metadata": {}
  },
  {
   "cell_type": "code",
   "execution_count": null,
   "source": [
    "plt.plot(np.array(mas_t) + 1000000/30*106, signal.filtfilt(b, a, remove_unreal(mas_x)), label=\"mas\")\n",
    "plt.plot(sub1_t, signal.filtfilt(b, a, remove_unreal(sub1_x)), label=\"sub1\")\n",
    "plt.legend()"
   ],
   "outputs": [],
   "metadata": {}
  },
  {
   "cell_type": "code",
   "execution_count": null,
   "source": [
    "mas_v = np.diff(remove_unreal(mas_x))/np.diff(mas_t)\n",
    "sub1_v = np.diff(remove_unreal(sub1_x))/np.diff(sub1_t)"
   ],
   "outputs": [],
   "metadata": {}
  },
  {
   "cell_type": "code",
   "execution_count": null,
   "source": [
    "plt.plot(mas_t[1:], mas_v, label=\"mas\")\n",
    "plt.plot(sub1_t[1:], sub1_v, label=\"sub1\")\n",
    "plt.legend()"
   ],
   "outputs": [],
   "metadata": {}
  },
  {
   "cell_type": "code",
   "execution_count": null,
   "source": [
    "mas_a = np.diff(mas_v)/np.diff(mas_t[1:])\n",
    "sub1_a = np.diff(sub1_v)/np.diff(sub1_t[1:])"
   ],
   "outputs": [],
   "metadata": {}
  },
  {
   "cell_type": "code",
   "execution_count": null,
   "source": [
    "plt.plot(mas_t[2:], mas_a, label=\"mas\")\n",
    "plt.plot(sub1_t[2:], sub1_a, label=\"sub1\")\n",
    "plt.legend()"
   ],
   "outputs": [],
   "metadata": {}
  }
 ],
 "metadata": {
  "orig_nbformat": 4,
  "language_info": {
   "name": "python",
   "version": "3.8.8",
   "mimetype": "text/x-python",
   "codemirror_mode": {
    "name": "ipython",
    "version": 3
   },
   "pygments_lexer": "ipython3",
   "nbconvert_exporter": "python",
   "file_extension": ".py"
  },
  "kernelspec": {
   "name": "python3",
   "display_name": "Python 3.8.8 64-bit ('3DSVC': conda)"
  },
  "interpreter": {
   "hash": "d4cb05d5866554eed3b9a6359059b21a23f910c0866f5e5976f74cb18daa3c71"
  }
 },
 "nbformat": 4,
 "nbformat_minor": 2
}