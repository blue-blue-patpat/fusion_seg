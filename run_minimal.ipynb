{
 "cells": [
  {
   "cell_type": "code",
   "execution_count": null,
   "source": [
    "import os\n",
    "from pytorch3d.structures import Meshes, Pointclouds\n",
    "from pytorch3d.ops import sample_points_from_meshes\n",
    "from minimal.solver import Solver\n",
    "from minimal import armatures\n",
    "from minimal.models import KinematicModel, KinematicPCAWrapper\n",
    "import numpy as np\n",
    "import minimal.config as config\n",
    "from dataloader.result_loader import KinectResultLoader\n",
    "from minimal.bridge import JointsBridge\n",
    "\n",
    "from tqdm.notebook import tqdm\n",
    "%matplotlib inline\n",
    "from mpl_toolkits.mplot3d import Axes3D\n",
    "import matplotlib.pyplot as plt\n",
    "import matplotlib as mpl\n",
    "mpl.rcParams['savefig.dpi'] = 80\n",
    "mpl.rcParams['figure.dpi'] = 80\n",
    "\n",
    "from dataloader.utils import ymdhms_time\n",
    "\n",
    "%load_ext autoreload\n",
    "%autoreload 2\n",
    "\n",
    "np.random.seed(20160923)"
   ],
   "outputs": [],
   "metadata": {}
  },
  {
   "cell_type": "code",
   "execution_count": null,
   "source": [
    "# pose_glb = np.zeros([1, 3]) # global rotation\n",
    "\n",
    "\n",
    "########################## smpl settings ##########################\n",
    "# note that in smpl and smpl-h no pca for pose is provided\n",
    "# therefore in the model we fake an identity matrix as the pca coefficients\n",
    "# to make the code compatible\n",
    "\n",
    "n_pose = 23 * 3 # degrees of freedom, (n_joints - 1) * 3\n",
    "# smpl 1.0.0: 10\n",
    "# smpl 1.1.0: 300\n",
    "n_shape = 10\n",
    "# TODO: Read pose from skeleton\n",
    "k_loader = KinectResultLoader('./ignoredata/minimal_files/input/')\n",
    "k_loader.file_dict.pop(\"kinect/master/pcls\")\n",
    "files = k_loader.select_item_in_tag(58, \"id\", \"kinect/master/skeleton\")\n",
    "kinect_skeleton = np.load(files[\"filepath\"])\n",
    "\n",
    "bridge = JointsBridge()\n",
    "keypoints_gt, _ = bridge.smpl_from_kinect(kinect_skeleton[0])"
   ],
   "outputs": [],
   "metadata": {}
  },
  {
   "cell_type": "code",
   "execution_count": null,
   "source": [
    "mesh = KinematicModel(config.SMPL_MODEL_1_0_PATH, armatures.SMPLArmature, scale=1)\n",
    "\n",
    "########################## solving example ############################\n",
    "\n",
    "wrapper = KinematicPCAWrapper(mesh, n_pose=n_pose)\n",
    "solver = Solver(wrapper, verbose=True, max_iter=int(10e7))\n",
    "\n",
    "# mesh_gt, keypoints_gt = \\\n",
    "# mesh.set_params(pose_pca=pose_pca, pose_glb=pose_glb, shape=shape)\n",
    "# pointcloud_gt = Pointclouds(sample_points_from_meshes(mesh_gt, num_samples=1000))\n",
    "pointcloud_gt = None\n",
    "params_est = solver.solve_full(keypoints_gt, pointcloud_gt)\n",
    "\n",
    "shape_est, pose_pca_est, pose_glb_est = wrapper.decode(params_est)\n",
    "\n",
    "print('----------------------------------------------------------------------')\n",
    "print('estimated parameters')\n",
    "print('pose pca coefficients:', pose_pca_est)\n",
    "print('pose global rotation:', pose_glb_est)\n",
    "print('shape: pca coefficients:', shape_est)\n",
    "\n",
    "mesh.set_params(pose_pca=pose_pca_est)\n",
    "mesh.save_obj(os.path.join(config.SAVE_PATH, './esttm={}.obj'.format(ymdhms_time())))"
   ],
   "outputs": [],
   "metadata": {}
  }
 ],
 "metadata": {
  "orig_nbformat": 4,
  "language_info": {
   "name": "python",
   "version": "3.8.8",
   "mimetype": "text/x-python",
   "codemirror_mode": {
    "name": "ipython",
    "version": 3
   },
   "pygments_lexer": "ipython3",
   "nbconvert_exporter": "python",
   "file_extension": ".py"
  },
  "kernelspec": {
   "name": "python3",
   "display_name": "Python 3.8.8 64-bit ('3DSVC': conda)"
  },
  "interpreter": {
   "hash": "d4cb05d5866554eed3b9a6359059b21a23f910c0866f5e5976f74cb18daa3c71"
  }
 },
 "nbformat": 4,
 "nbformat_minor": 2
}