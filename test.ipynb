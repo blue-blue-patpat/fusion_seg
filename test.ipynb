{
 "cells": [
  {
   "cell_type": "code",
   "execution_count": null,
   "source": [
    "from dataloader.result_loader import KinectResultLoader, ArbeResultLoader, OptitrackResultLoader\n",
    "import numpy as np\n",
    "import os\n",
    "root_path = \"/home/nesc525/chen/3DSVC/__test__/default\"\n",
    "\n",
    "arbe_loader = ArbeResultLoader(root_path)\n",
    "arbe_loader.file_dict['arbe'] = arbe_loader.file_dict['arbe'].drop_duplicates(subset=['dt'],keep='first')\n",
    "ids = arbe_loader.file_dict['arbe']['id']\n",
    "ids = sorted(map(int, ids))\n",
    "print(ids)\n",
    "arbe_loader[ids[0]][\"arbe\"]\n",
    "os.listdir(root_path)\n",
    "frames = range(0, 5, 1)\n",
    "print(frames)\n",
    "ids[frames]"
   ],
   "outputs": [],
   "metadata": {}
  },
  {
   "cell_type": "code",
   "execution_count": null,
   "source": [
    "import numpy as np\n",
    "import cv2\n",
    "import matplotlib.pyplot as plt\n",
    "from message.dingtalk import TimerBot\n",
    "\n",
    "bot =TimerBot()\n",
    "fig = plt.figure()\n",
    "fig.add_subplot(1, 1, 1).plot([1,2,3], [1,2,3])\n",
    "fig.canvas.draw()\n",
    "img = cv2.cvtColor(np.asarray(fig.canvas.buffer_rgba()), cv2.COLOR_RGBA2BGR)\n",
    "bot.add_md(\"test\", \"【TEST】 \\n ![img]({})\".format(bot.img2b64(img)))\n",
    "bot.enable()"
   ],
   "outputs": [],
   "metadata": {}
  },
  {
   "cell_type": "code",
   "execution_count": null,
   "source": [
    "import torch\n",
    "a = torch.tensor([[[1,2,4],[7,65,0],[32,12,43]],[[13,2,3],[12,1,566],[54,43,2]]])\n",
    "print(a)\n",
    "torch.max(a, 1)"
   ],
   "outputs": [],
   "metadata": {}
  }
 ],
 "metadata": {
  "orig_nbformat": 4,
  "language_info": {
   "name": "python",
   "version": "3.8.8",
   "mimetype": "text/x-python",
   "codemirror_mode": {
    "name": "ipython",
    "version": 3
   },
   "pygments_lexer": "ipython3",
   "nbconvert_exporter": "python",
   "file_extension": ".py"
  },
  "kernelspec": {
   "name": "python3",
   "display_name": "Python 3.8.8 64-bit ('3DSVC': conda)"
  },
  "interpreter": {
   "hash": "d4cb05d5866554eed3b9a6359059b21a23f910c0866f5e5976f74cb18daa3c71"
  }
 },
 "nbformat": 4,
 "nbformat_minor": 2
}